{
 "cells": [
  {
   "cell_type": "code",
   "execution_count": 62,
   "id": "3ede1557",
   "metadata": {},
   "outputs": [
    {
     "name": "stderr",
     "output_type": "stream",
     "text": [
      "[nltk_data] Downloading package stopwords to\n",
      "[nltk_data]     C:\\Users\\Administrator\\AppData\\Roaming\\nltk_data...\n",
      "[nltk_data]   Package stopwords is already up-to-date!\n",
      "[nltk_data] Downloading package punkt to\n",
      "[nltk_data]     C:\\Users\\Administrator\\AppData\\Roaming\\nltk_data...\n",
      "[nltk_data]   Package punkt is already up-to-date!\n",
      "[nltk_data] Downloading package averaged_perceptron_tagger_eng to\n",
      "[nltk_data]     C:\\Users\\Administrator\\AppData\\Roaming\\nltk_data...\n",
      "[nltk_data]   Package averaged_perceptron_tagger_eng is already up-to-\n",
      "[nltk_data]       date!\n"
     ]
    }
   ],
   "source": [
    "# !pip install nltk\n",
    "import nltk\n",
    "nltk.download('stopwords')\n",
    "nltk.download('punkt')\n",
    "nltk. download('averaged_perceptron_tagger_eng')\n",
    "from nltk.corpus import stopwords\n",
    "from nltk import pos_tag,word_tokenize,pos_tag_sents\n",
    "# sentences = nltk.sent_tokenize(paragraph)"
   ]
  },
  {
   "cell_type": "code",
   "execution_count": 63,
   "id": "f59e0960",
   "metadata": {},
   "outputs": [],
   "source": [
    "sentence = input(\"Enter some text:\")"
   ]
  },
  {
   "cell_type": "code",
   "execution_count": 64,
   "id": "61af472b",
   "metadata": {},
   "outputs": [],
   "source": [
    "tag = pos_tag_sents([sentence.split()])"
   ]
  },
  {
   "cell_type": "code",
   "execution_count": null,
   "id": "46d8b2ce",
   "metadata": {},
   "outputs": [
    {
     "name": "stdout",
     "output_type": "stream",
     "text": [
      "what --> Pronoun\n",
      "the --> Determiner\n",
      "heck --> Noun\n",
      "is --> 3rd Person Verb\n",
      "this --> Determiner\n",
      "i --> Noun\n",
      "want --> Present Tense Verb\n",
      "this --> Determiner\n",
      "now --> Adverb\n"
     ]
    }
   ],
   "source": [
    "length = len(tag[0])\n",
    "list1 = []\n",
    "for i in range(length):\n",
    "        my_list = list(tag[0][i])\n",
    "        list1 += my_list\n",
    "list2 = ['CC','Conjuction','CD','Digits','EX','Existential','FW','Foreign Word','IN',' Preposition', 'JJ','Adjective', 'JJR', 'Adjective','JJS','Adjective','LS', 'List Marker','MD','Modal','NN','Noun','NNS','Plural Noun', 'NNP','Proper Noun', 'NNPS', 'Proper Noun', 'PDT', 'Predeterminer','POS','Possessive ending','PRP$','Possessive Pronoun','RB','Adverb','RBR','Comparative Adverb','RBS','Superlative Adverb','RP','Particle','TO', 'To', 'UH','Interjection','VB', 'Base Verb','VBD','Past Tense Verb','VBG','Present Tense Verb','VBN','Past Tense Verb','VBP','Present Tense Verb','VBZ','3rd Person Verb','WDT','Determiner', 'WP','Pronoun', 'WP$','Possessive','WRB','WH Adverb','DT','Determiner']\n",
    "\n",
    "for i in range(1,len(list1),2):\n",
    "                for j in range(len(list2)-1):\n",
    "                        if(list1[i] == list2[j]):\n",
    "                                list1[i] = list2[j+1]\n",
    "                                break\n",
    "\n",
    "n = int(len(list1)/2)\n",
    "for i in range(n):\n",
    "        print(list1[2*i] + \" --> \"+list1[2*i+1])\n"
   ]
  },
  {
   "cell_type": "code",
   "execution_count": 66,
   "id": "3e428d8a",
   "metadata": {},
   "outputs": [
    {
     "name": "stdout",
     "output_type": "stream",
     "text": [
      "['heck', 'want']\n"
     ]
    }
   ],
   "source": [
    "#STOPWORDS IN THE SENTENCES\n",
    "sentences = nltk.sent_tokenize(sentence)\n",
    "words = nltk.word_tokenize(sentences[0])\n",
    "words1 = nltk.word_tokenize(sentences[0])\n",
    "for i in range(len(sentences)):\n",
    "    j=0\n",
    "    while j<(len(words)):\n",
    "        if words[j] in set(stopwords.words('ENGLISH')):\n",
    "            del words[j]\n",
    "        else:\n",
    "            j+=1\n",
    "print(words)"
   ]
  },
  {
   "cell_type": "code",
   "execution_count": 67,
   "id": "33b66327",
   "metadata": {},
   "outputs": [
    {
     "data": {
      "text/plain": [
       "['what', 'the', 'heck', 'is', 'this', 'i', 'want', 'this', 'now']"
      ]
     },
     "execution_count": 67,
     "metadata": {},
     "output_type": "execute_result"
    }
   ],
   "source": [
    "words1"
   ]
  },
  {
   "cell_type": "code",
   "execution_count": null,
   "id": "bed58daf",
   "metadata": {},
   "outputs": [
    {
     "name": "stdout",
     "output_type": "stream",
     "text": [
      "['what', 'the', 'is', 'this', 'i', 'this', 'now']\n"
     ]
    }
   ],
   "source": [
    "# count=0\n",
    "# j=0\n",
    "# for i in range(len(words1)):\n",
    "#     if(words1[i] != words[j]):\n",
    "#         normal.append(words1[i])\n",
    "#         count+=1\n",
    "#     else:\n",
    "#         j+=1\n",
    "\n",
    "normal = []\n",
    "for word in words1:\n",
    "    if word not in words:\n",
    "        normal.append(word)\n",
    "\n",
    "print(normal)\n"
   ]
  },
  {
   "cell_type": "code",
   "execution_count": 69,
   "id": "d471360d",
   "metadata": {},
   "outputs": [
    {
     "data": {
      "text/plain": [
       "['heck', 'want']"
      ]
     },
     "execution_count": 69,
     "metadata": {},
     "output_type": "execute_result"
    }
   ],
   "source": [
    "words"
   ]
  },
  {
   "cell_type": "code",
   "execution_count": null,
   "id": "fe823bf6",
   "metadata": {},
   "outputs": [],
   "source": []
  }
 ],
 "metadata": {
  "kernelspec": {
   "display_name": "Python 3",
   "language": "python",
   "name": "python3"
  },
  "language_info": {
   "codemirror_mode": {
    "name": "ipython",
    "version": 3
   },
   "file_extension": ".py",
   "mimetype": "text/x-python",
   "name": "python",
   "nbconvert_exporter": "python",
   "pygments_lexer": "ipython3",
   "version": "3.12.7"
  }
 },
 "nbformat": 4,
 "nbformat_minor": 5
}
